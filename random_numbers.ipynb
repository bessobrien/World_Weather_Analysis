{
 "cells": [
  {
   "cell_type": "code",
   "execution_count": 1,
   "id": "f9bf174e",
   "metadata": {},
   "outputs": [],
   "source": [
    "import random\n"
   ]
  },
  {
   "cell_type": "code",
   "execution_count": 2,
   "id": "a9586680",
   "metadata": {},
   "outputs": [
    {
     "data": {
      "text/plain": [
       "69"
      ]
     },
     "execution_count": 2,
     "metadata": {},
     "output_type": "execute_result"
    }
   ],
   "source": [
    "random.randint(-90,90)"
   ]
  },
  {
   "cell_type": "code",
   "execution_count": 3,
   "id": "2f1071b6",
   "metadata": {},
   "outputs": [
    {
     "data": {
      "text/plain": [
       "0.6028960036362514"
      ]
     },
     "execution_count": 3,
     "metadata": {},
     "output_type": "execute_result"
    }
   ],
   "source": [
    "random.random()"
   ]
  },
  {
   "cell_type": "code",
   "execution_count": 4,
   "id": "94b02a67",
   "metadata": {},
   "outputs": [
    {
     "data": {
      "text/plain": [
       "35.4150339592312"
      ]
     },
     "execution_count": 4,
     "metadata": {},
     "output_type": "execute_result"
    }
   ],
   "source": [
    "random_number = random.randint(-90,89) + random.random()\n",
    "random_number"
   ]
  },
  {
   "cell_type": "code",
   "execution_count": 6,
   "id": "6031a17e",
   "metadata": {},
   "outputs": [
    {
     "data": {
      "text/plain": [
       "[-0.9619802433614957,\n",
       " -88.5563480132617,\n",
       " 51.33106479679031,\n",
       " 66.37493837280431,\n",
       " 87.43341195331624,\n",
       " 89.10776477867252,\n",
       " -3.361947594479905,\n",
       " -59.27329854984552,\n",
       " -78.15667046137978,\n",
       " 37.627216948478484]"
      ]
     },
     "execution_count": 6,
     "metadata": {},
     "output_type": "execute_result"
    }
   ],
   "source": [
    "x = 1\n",
    "latitudes = []\n",
    "while x < 11:\n",
    "    random_lat = random.randint(-90,89) + random.random()\n",
    "    latitudes.append(random_lat)\n",
    "    x+=1\n",
    "    \n",
    "latitudes"
   ]
  },
  {
   "cell_type": "code",
   "execution_count": 7,
   "id": "44f43955",
   "metadata": {},
   "outputs": [
    {
     "data": {
      "text/plain": [
       "75"
      ]
     },
     "execution_count": 7,
     "metadata": {},
     "output_type": "execute_result"
    }
   ],
   "source": [
    "random.randrange(-90,90,step=1)"
   ]
  },
  {
   "cell_type": "code",
   "execution_count": 8,
   "id": "89d9e679",
   "metadata": {},
   "outputs": [
    {
     "data": {
      "text/plain": [
       "-9"
      ]
     },
     "execution_count": 8,
     "metadata": {},
     "output_type": "execute_result"
    }
   ],
   "source": [
    "random.randrange(-90,90,step=3)"
   ]
  },
  {
   "cell_type": "code",
   "execution_count": 9,
   "id": "7aa6fa1b",
   "metadata": {},
   "outputs": [
    {
     "data": {
      "text/plain": [
       "18.564716908639014"
      ]
     },
     "execution_count": 9,
     "metadata": {},
     "output_type": "execute_result"
    }
   ],
   "source": [
    "random.uniform(-90,90)"
   ]
  },
  {
   "cell_type": "code",
   "execution_count": 10,
   "id": "f0c886de",
   "metadata": {},
   "outputs": [],
   "source": [
    "# import the NumPy module.\n",
    "import numpy as np"
   ]
  },
  {
   "cell_type": "code",
   "execution_count": 11,
   "id": "af76baf1",
   "metadata": {},
   "outputs": [
    {
     "data": {
      "text/plain": [
       "79.43234315813251"
      ]
     },
     "execution_count": 11,
     "metadata": {},
     "output_type": "execute_result"
    }
   ],
   "source": [
    "np.random.uniform(-90.000, 90.000)"
   ]
  },
  {
   "cell_type": "code",
   "execution_count": 16,
   "id": "1154137a",
   "metadata": {},
   "outputs": [
    {
     "data": {
      "text/plain": [
       "array([-53.3777891 ,  28.78153024, -29.05418059, -49.47243525,\n",
       "        15.84045772, -61.40297696, -45.26813597, -87.53076196,\n",
       "        34.30846876, -51.23125276,  39.82363512, -35.89820231,\n",
       "       -64.27146517, -44.87637491,   1.7687613 , -60.31594363,\n",
       "       -23.47241265,  12.4099032 ,  17.56398029, -25.01179019,\n",
       "       -36.35545467,  38.20232402, -71.03917394, -78.46188703,\n",
       "        13.50516107,   6.12925144,  84.39762316, -13.25904074,\n",
       "       -47.82318359, -71.56333978,  89.73160449, -67.47405434,\n",
       "        -4.35651126, -33.24515387, -70.75370394, -39.82652592,\n",
       "       -48.01047991, -46.01452856,  67.12279251, -87.3572325 ,\n",
       "       -84.2014482 , -22.38849971,  28.0409116 , -22.31648035,\n",
       "       -73.2314658 , -41.27113179,   2.96202388,  86.49734466,\n",
       "        79.39144169, -57.35176538])"
      ]
     },
     "execution_count": 16,
     "metadata": {},
     "output_type": "execute_result"
    }
   ],
   "source": [
    "%timeit\n",
    "np.random.uniform(-90.000, 90.000, size=50)"
   ]
  },
  {
   "cell_type": "code",
   "execution_count": 15,
   "id": "957e84c8",
   "metadata": {},
   "outputs": [],
   "source": [
    "# import timit\n",
    "import timeit"
   ]
  },
  {
   "cell_type": "code",
   "execution_count": 18,
   "id": "50a7b9f6",
   "metadata": {},
   "outputs": [
    {
     "name": "stdout",
     "output_type": "stream",
     "text": [
      "19.7 µs ± 462 ns per loop (mean ± std. dev. of 7 runs, 100,000 loops each)\n"
     ]
    }
   ],
   "source": [
    "%timeit np.random.uniform(-90.000, 90.000, size=1500)"
   ]
  },
  {
   "cell_type": "code",
   "execution_count": 19,
   "id": "6561b2f8",
   "metadata": {},
   "outputs": [
    {
     "name": "stdout",
     "output_type": "stream",
     "text": [
      "1.95 ms ± 33.4 µs per loop (mean ± std. dev. of 7 runs, 1,000 loops each)\n"
     ]
    }
   ],
   "source": [
    "def latitudes(size):\n",
    "    latitudes = []\n",
    "    x = 0\n",
    "    while x < (size):\n",
    "        random_lat = random.randint(-90, 90) + random.random()\n",
    "        latitudes.append(random_lat)\n",
    "        x += 1\n",
    "    return latitudes\n",
    "# Call the function with 1500.\n",
    "%timeit latitudes(1500)"
   ]
  },
  {
   "cell_type": "code",
   "execution_count": null,
   "id": "321c0c8c",
   "metadata": {},
   "outputs": [],
   "source": [
    "def latitudes(size):\n",
    "    lataitudes = []\n",
    "    x = 0\n",
    "    for x < (size):\n",
    "        "
   ]
  }
 ],
 "metadata": {
  "kernelspec": {
   "display_name": "PythonData",
   "language": "python",
   "name": "pythondata"
  },
  "language_info": {
   "codemirror_mode": {
    "name": "ipython",
    "version": 3
   },
   "file_extension": ".py",
   "mimetype": "text/x-python",
   "name": "python",
   "nbconvert_exporter": "python",
   "pygments_lexer": "ipython3",
   "version": "3.9.12"
  }
 },
 "nbformat": 4,
 "nbformat_minor": 5
}
